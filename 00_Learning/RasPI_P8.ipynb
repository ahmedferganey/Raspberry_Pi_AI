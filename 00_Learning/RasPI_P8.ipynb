version https://git-lfs.github.com/spec/v1
oid sha256:6b03e0a5a34599b75338807a1aaac27c9b4a756e978d61b251639527b28d6370
size 52916030
